{
 "cells": [
  {
   "cell_type": "code",
   "execution_count": 1,
   "id": "7e57b574",
   "metadata": {},
   "outputs": [],
   "source": [
    "import pandas as pd\n",
    "from sklearn.preprocessing import LabelEncoder, normalize, StandardScaler\n",
    "import numpy as np"
   ]
  },
  {
   "cell_type": "markdown",
   "id": "e37c9d49",
   "metadata": {},
   "source": [
    "## Chargement de la donnée"
   ]
  },
  {
   "cell_type": "code",
   "execution_count": 2,
   "id": "b9cbf1e2",
   "metadata": {},
   "outputs": [],
   "source": [
    "data = pd.read_csv(\"data/Tuesday-WorkingHours.pcap_ISCX.csv\")"
   ]
  },
  {
   "cell_type": "code",
   "execution_count": 3,
   "id": "7b7a0a40",
   "metadata": {},
   "outputs": [
    {
     "data": {
      "text/plain": [
       "array(['BENIGN', 'FTP-Patator', 'SSH-Patator'], dtype=object)"
      ]
     },
     "execution_count": 3,
     "metadata": {},
     "output_type": "execute_result"
    }
   ],
   "source": [
    "data = data.rename(str.strip, axis=\"columns\")\n",
    "data[\"Label\"].unique()"
   ]
  },
  {
   "cell_type": "code",
   "execution_count": 4,
   "id": "e00d7d33",
   "metadata": {},
   "outputs": [
    {
     "data": {
      "text/plain": [
       "array([0, 1])"
      ]
     },
     "execution_count": 4,
     "metadata": {},
     "output_type": "execute_result"
    }
   ],
   "source": [
    "data['Label'] = data['Label'].apply(lambda x: 0 if x == 'BENIGN' else 1)\n",
    "data = pd.get_dummies(data)\n",
    "\n",
    "# Remplace les infinis par des NaN\n",
    "data.replace([np.inf, -np.inf], np.nan, inplace=True)\n",
    "\n",
    "# Supprime ou impute les NaN\n",
    "data.dropna(inplace=True)  # Option 1 : on les supprime\n",
    "data.Label.unique()\n"
   ]
  },
  {
   "cell_type": "code",
   "execution_count": 5,
   "id": "769ee738",
   "metadata": {},
   "outputs": [],
   "source": [
    "from sklearn.preprocessing import StandardScaler\n",
    "\n",
    "scaler = StandardScaler()\n",
    "X = data.drop(\"Label\", axis=\"columns\")\n",
    "y = data['Label']\n",
    "\n",
    "X_scaled = scaler.fit_transform(X)"
   ]
  },
  {
   "cell_type": "code",
   "execution_count": 6,
   "id": "9f7f9b60",
   "metadata": {},
   "outputs": [],
   "source": [
    "from sklearn.model_selection import train_test_split\n",
    "from sklearn.neighbors import KNeighborsClassifier\n",
    "from sklearn.metrics import classification_report\n",
    "\n",
    "\n",
    "X_train, X_test, y_train, y_test = train_test_split(data.drop(\"Label\", axis=\"columns\"), data[\"Label\"], train_size=0.75)\n"
   ]
  },
  {
   "cell_type": "code",
   "execution_count": 7,
   "id": "e94a265c",
   "metadata": {},
   "outputs": [
    {
     "name": "stdout",
     "output_type": "stream",
     "text": [
      "Nombre de composantes retenues : 4\n"
     ]
    }
   ],
   "source": [
    "from sklearn.decomposition import PCA\n",
    "\n",
    "# -------- PCA --------\n",
    "pca = PCA(n_components=0.95)  # Garde 95% de la variance\n",
    "X_train_pca = pca.fit_transform(X_train)\n",
    "X_test_pca = pca.transform(X_test)\n",
    "\n",
    "print(f\"Nombre de composantes retenues : {pca.n_components_}\")\n"
   ]
  },
  {
   "cell_type": "code",
   "execution_count": 8,
   "id": "84a74072",
   "metadata": {},
   "outputs": [
    {
     "name": "stdout",
     "output_type": "stream",
     "text": [
      "              precision    recall  f1-score   support\n",
      "\n",
      "           0       1.00      1.00      1.00    107906\n",
      "           1       0.97      0.98      0.98      3506\n",
      "\n",
      "    accuracy                           1.00    111412\n",
      "   macro avg       0.99      0.99      0.99    111412\n",
      "weighted avg       1.00      1.00      1.00    111412\n",
      "\n"
     ]
    }
   ],
   "source": [
    "knn = KNeighborsClassifier(n_neighbors=5)\n",
    "knn.fit(X_train_pca, y_train)\n",
    "y_pred_knn = knn.predict(X_test_pca)\n",
    "\n",
    "print(classification_report(y_test, y_pred_knn))"
   ]
  },
  {
   "cell_type": "code",
   "execution_count": null,
   "id": "fbda1568",
   "metadata": {},
   "outputs": [],
   "source": [
    "# -------- SVM linéaire avec PCA --------\n",
    "import time\n",
    "from sklearn.svm import SVC\n",
    "\n",
    "\n",
    "svm_linear_pca = SVC(kernel='linear', C=1)\n",
    "start_time = time.time()\n",
    "svm_linear_pca.fit(X_train_pca, y_train)\n",
    "y_pred_linear_pca = svm_linear_pca.predict(X_test_pca)\n",
    "linear_time = time.time() - start_time\n",
    "\n",
    "print(\"=== SVM linéaire + PCA ===\")\n",
    "print(f\"Temps d'exécution : {linear_time:.2f} secondes\")\n",
    "print(classification_report(y_test, y_pred_linear_pca))\n",
    "\n",
    "# -------- SVM RBF avec PCA --------\n",
    "svm_rbf_pca = SVC(kernel='rbf', C=1, gamma='scale')\n",
    "start_time = time.time()\n",
    "svm_rbf_pca.fit(X_train_pca, y_train)\n",
    "y_pred_rbf_pca = svm_rbf_pca.predict(X_test_pca)\n",
    "rbf_time = time.time() - start_time\n",
    "\n",
    "print(\"\\n=== SVM RBF + PCA ===\")\n",
    "print(f\"Temps d'exécution : {rbf_time:.2f} secondes\")\n",
    "print(classification_report(y_test, y_pred_rbf_pca))\n"
   ]
  }
 ],
 "metadata": {
  "kernelspec": {
   "display_name": ".venv",
   "language": "python",
   "name": "python3"
  },
  "language_info": {
   "codemirror_mode": {
    "name": "ipython",
    "version": 3
   },
   "file_extension": ".py",
   "mimetype": "text/x-python",
   "name": "python",
   "nbconvert_exporter": "python",
   "pygments_lexer": "ipython3",
   "version": "3.12.2"
  }
 },
 "nbformat": 4,
 "nbformat_minor": 5
}
